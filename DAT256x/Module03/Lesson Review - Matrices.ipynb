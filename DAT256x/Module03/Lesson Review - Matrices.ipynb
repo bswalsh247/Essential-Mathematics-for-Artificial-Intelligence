{
 "cells": [
  {
   "cell_type": "markdown",
   "metadata": {},
   "source": [
    "Question #1:"
   ]
  },
  {
   "cell_type": "code",
   "execution_count": 1,
   "metadata": {},
   "outputs": [
    {
     "name": "stdout",
     "output_type": "stream",
     "text": [
      "[[1 8 3]\n",
      " [7 2 4]]\n"
     ]
    }
   ],
   "source": [
    "import numpy as np\n",
    "\n",
    "A = np.array([[2,5,-2],\n",
    "              [4,9,2]])\n",
    "B = np.array([[-1,3,5],\n",
    "              [3,-7,2]])\n",
    "print(A + B)"
   ]
  },
  {
   "cell_type": "markdown",
   "metadata": {},
   "source": [
    "To add two matrices, just add the corresponding matrice elements."
   ]
  },
  {
   "cell_type": "markdown",
   "metadata": {},
   "source": [
    "Question #2:"
   ]
  },
  {
   "cell_type": "code",
   "execution_count": 2,
   "metadata": {},
   "outputs": [
    {
     "name": "stdout",
     "output_type": "stream",
     "text": [
      "[[ 1 -5]\n",
      " [ 7  3]]\n"
     ]
    }
   ],
   "source": [
    "import numpy as np\n",
    "\n",
    "A = np.array([[1,7],\n",
    "              [-5,3]])\n",
    "print(A.T)"
   ]
  },
  {
   "cell_type": "markdown",
   "metadata": {},
   "source": [
    "When you transpose a matrix (indicated by a superscript T), the first row becomes the first column, the second row becomes the second column, and so on."
   ]
  },
  {
   "cell_type": "markdown",
   "metadata": {},
   "source": [
    "Question #3:"
   ]
  },
  {
   "cell_type": "code",
   "execution_count": 4,
   "metadata": {},
   "outputs": [
    {
     "name": "stdout",
     "output_type": "stream",
     "text": [
      "[[19 22]\n",
      " [17  6]]\n",
      "[[19 22]\n",
      " [17  6]]\n"
     ]
    }
   ],
   "source": [
    "import numpy as np\n",
    "\n",
    "A = np.array([[6,1],\n",
    "              [-2,3]])\n",
    "B = np.array([[2,3],\n",
    "              [7,4]])\n",
    "print(np.dot(A,B))\n",
    "print(A @ B)"
   ]
  },
  {
   "cell_type": "markdown",
   "metadata": {},
   "source": [
    "To calculate a matrix that is the dot-product of two matrices, multiply the each row by each column to find the elements of the resulting matrix."
   ]
  },
  {
   "cell_type": "markdown",
   "metadata": {},
   "source": [
    "Question #4:"
   ]
  },
  {
   "cell_type": "code",
   "execution_count": 29,
   "metadata": {},
   "outputs": [
    {
     "name": "stdout",
     "output_type": "stream",
     "text": [
      "[[  2.   17. ]\n",
      " [  0.5  -5.5]]\n",
      "[[ 3.  -1. ]\n",
      " [-1.   0.5]]\n",
      "[[  2.   17. ]\n",
      " [  0.5  -5.5]]\n",
      "[[  2.   17. ]\n",
      " [  0.5  -5.5]]\n"
     ]
    }
   ],
   "source": [
    "import numpy as np\n",
    "\n",
    "F = np.array([[1,2],\n",
    "              [2,6]])\n",
    "\n",
    "G = np.array([[3,6],\n",
    "              [7,1]])\n",
    "\n",
    "# print(G @ np.linalg.inv(F)) -- This is incorrect. remember order of operands.\n",
    "print(np.linalg.inv(F) @ G)\n",
    "\n",
    "#just experiementing below\n",
    "F = np.linalg.inv(F)\n",
    "print(F)\n",
    "print(np.dot(F,G))\n",
    "print(F @ G)"
   ]
  }
 ],
 "metadata": {
  "kernelspec": {
   "display_name": "Python [conda env:anaconda3]",
   "language": "python",
   "name": "conda-env-anaconda3-py"
  },
  "language_info": {
   "codemirror_mode": {
    "name": "ipython",
    "version": 3
   },
   "file_extension": ".py",
   "mimetype": "text/x-python",
   "name": "python",
   "nbconvert_exporter": "python",
   "pygments_lexer": "ipython3",
   "version": "3.6.3"
  }
 },
 "nbformat": 4,
 "nbformat_minor": 2
}
